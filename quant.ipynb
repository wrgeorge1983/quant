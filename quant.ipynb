{
 "worksheets": [
  {
   "cells": [
    {
     "cell_type": "code",
     "execution_count": null,
     "metadata": {},
     "outputs": [],
     "input": [
      "symbols = lambda *args, **kwargs: (args, kwargs)\n",
      "order_target_percent = lambda x: x\n",
      "record = symbols\n",
      "\n",
      "# Put any initialization logic here.  The context object will be passed to\n",
      "# the other methods in your algorithm.\n",
      "def initialize(context):\n",
      "    context.stocks = symbols('XLY',  # XLY Consumer Discrectionary SPDR Fund   \n",
      "                             'XLF',  # XLF Financial SPDR Fund  \n",
      "                             'XLK',  # XLK Technology SPDR Fund  \n",
      "                             'XLE',  # XLE Energy SPDR Fund  \n",
      "                             'XLV',  # XLV Health Care SPRD Fund  \n",
      "                             'XLI',  # XLI Industrial SPDR Fund  \n",
      "                             'XLP',  # XLP Consumer Staples SPDR Fund   \n",
      "                             'XLB',  # XLB Materials SPDR Fund  \n",
      "                             'XLU')  # XLU Utilities SPRD Fund\n",
      "\n",
      "\n",
      "# Will be called on every trade event for the securities you specify. \n",
      "def handle_data(context, data):\n",
      "    MASet.instances = []\n",
      "    MASet.max_score_clamping = 0\n",
      "    for stock in context.stocks:\n",
      "        s_data = data[stock]\n",
      "        mas = MASet(data, stock)\n",
      "        price = s_data.price\n",
      "        \n",
      "    key = lambda mas: mas.ratio_weight\n",
      "    mas_srt = sorted(MASet.instances, key=key)\n",
      "    \n",
      "    for mas in MASet.instances:\n",
      "        score = mas.score\n",
      "        if mas in mas_srt[:3]:\n",
      "            score *= -1.0\n",
      "            \n",
      "        mas.otp(score)            \n",
      "        print('stock: {stock}\\tshort: {short}\\tlong: {long}\\n'\n",
      "              'ratio: {ratio}\\t\\tscore {score}'.format(\n",
      "                stock=mas.stock, short=mas.short, long=mas.long,\n",
      "                ratio=mas.s_l_ratio, score=score)\n",
      "              )\n",
      "        \n",
      "    record(clamping = MASet.max_score_clamping)"
     ],
     "language": "python",
     "prompt_number": 2
    },
    {
     "cell_type": "code",
     "execution_count": null,
     "metadata": {},
     "outputs": [],
     "input": [
      "from quant import *"
     ],
     "language": "python",
     "prompt_number": 173
    },
    {
     "cell_type": "code",
     "execution_count": null,
     "metadata": {},
     "outputs": [],
     "input": [
      "MASetPrim.instances = []\n",
      "MASetPrim(1.01,1,'AAA')\n",
      "MASetPrim(1.01,1,'BBB')\n",
      "MASetPrim(0.95,1,'CCC')\n",
      "MASetPrim(1,1,'DDD')\n",
      "MASetPrim(1,1,'EEE')"
     ],
     "language": "python",
     "prompt_number": 155
    },
    {
     "cell_type": "code",
     "execution_count": null,
     "metadata": {},
     "outputs": [
      {
       "output_type": "stream",
       "stream": "stdout",
       "text": [
        "AAA: \tshort: 1.01,  \tlong: 1, \t1.01\n\t\t4.97, \t0.20321931589537223, \tBUY\n\n\nBBB: \tshort: 1.01,  \tlong: 1, \t1.01\n\t\t4.97, \t0.20321931589537223, \tBUY\n\n\nCCC: \tshort: 0.95,  \tlong: 1, \t0.95\n\t\t4.97, \t0.19114688128772636, \tSTRONG SELL\n\n\nDDD: \tshort: 1,  \tlong: 1, \t1.0\n\t\t4.97, \t0.2012072434607646, \tHOLD\n\n\nEEE: \tshort: 1,  \tlong: 1, \t1.0\n\t\t4.97, \t0.2012072434607646, \tHOLD\n\n\n"
       ]
      }
     ],
     "input": [
      "for instance in MASetPrim.instances:\n",
      "    try:\n",
      "        print('{name}: \\tshort: {short},  \\tlong: {long}, \\t{s_l_ratio}'\n",
      "              '\\n\\t\\t{ratio_sum}, \\t{ratio_weight}, \\t{recommendation}\\n\\n'\n",
      "              ''.format(**instance))\n",
      "    except TypeError:\n",
      "        print(instance.__dict__, instance.__class__.__dict__)"
     ],
     "language": "python",
     "prompt_number": 162
    },
    {
     "cell_type": "code",
     "execution_count": null,
     "metadata": {},
     "outputs": [
      {
       "output_type": "pyout",
       "prompt_number": 151,
       "text": [
        "('long',\n 'name',\n 'max_score_clamping',\n 'short',\n 'instances',\n 'score',\n 's_l_ratio',\n 'limits',\n 'recommendation',\n 'ratio_sum',\n 'ratio_weight')"
       ],
       "metadata": {}
      }
     ],
     "input": [
      "tuple(instance)"
     ],
     "language": "python",
     "prompt_number": 151
    },
    {
     "cell_type": "code",
     "execution_count": null,
     "metadata": {},
     "outputs": [
      {
       "output_type": "pyout",
       "prompt_number": 157,
       "text": [
        "'STRONG SELL'"
       ],
       "metadata": {}
      }
     ],
     "input": [
      "instance['recommendation']"
     ],
     "language": "python",
     "prompt_number": 157
    },
    {
     "cell_type": "code",
     "execution_count": null,
     "metadata": {},
     "outputs": [],
     "input": [
      ""
     ],
     "language": "python",
     "prompt_number": 78
    },
    {
     "cell_type": "code",
     "execution_count": null,
     "metadata": {},
     "outputs": [],
     "input": [
      ""
     ],
     "language": "python",
     "prompt_number": 78
    },
    {
     "cell_type": "code",
     "execution_count": null,
     "metadata": {},
     "outputs": [],
     "input": [
      ""
     ],
     "language": "python"
    },
    {
     "cell_type": "code",
     "execution_count": null,
     "metadata": {},
     "outputs": [],
     "input": [
      ""
     ],
     "language": "python"
    }
   ]
  }
 ],
 "cells": [],
 "metadata": {},
 "nbformat": 3,
 "nbformat_minor": 0
}